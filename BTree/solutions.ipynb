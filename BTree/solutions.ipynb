{
 "cells": [
  {
   "cell_type": "code",
   "execution_count": 2,
   "metadata": {
    "collapsed": true
   },
   "outputs": [],
   "source": [
    "class BTree:\n",
    "    def __init__(self, data, left=None, right=None):\n",
    "        self._data = data\n",
    "        self._left = left\n",
    "        self._right = right"
   ]
  },
  {
   "cell_type": "code",
   "execution_count": 3,
   "metadata": {},
   "outputs": [],
   "source": [
    "root = BTree(10,None, None)\n",
    "left1 = BTree(5,None, None)\n",
    "right1 = BTree(5,None, None)\n",
    "left2 = BTree(6,None, None)\n",
    "right2 = BTree(6,None, None)\n",
    "left3 = BTree(8,None, None)\n",
    "right3 = BTree(8,None, None)"
   ]
  },
  {
   "cell_type": "code",
   "execution_count": 6,
   "metadata": {},
   "outputs": [],
   "source": [
    "def printTreeInOrder(node):\n",
    "    if not node:\n",
    "        return\n",
    "    print(node._data)\n",
    "    printTreeInOrder(node._left)\n",
    "    printTreeInOrder(node._right)"
   ]
  },
  {
   "cell_type": "code",
   "execution_count": 7,
   "metadata": {},
   "outputs": [
    {
     "name": "stdout",
     "output_type": "stream",
     "text": [
      "10\n"
     ]
    }
   ],
   "source": [
    "printTreeInOrder(root)"
   ]
  },
  {
   "cell_type": "code",
   "execution_count": 8,
   "metadata": {},
   "outputs": [],
   "source": [
    "def issymmetric(tree):\n",
    "    if not tree:\n",
    "        return False\n",
    "    \n",
    "    def isamirrorimage(lefttree, righttree):\n",
    "        if not lefttree and not righttree:\n",
    "            return True\n",
    "        elif not lefttree or not righttree:\n",
    "            return False\n",
    "        elif lefttree._data != righttree._data:\n",
    "            return False\n",
    "        \n",
    "        if not isamirrorimage(lefttree._left, righttree._right):\n",
    "            return False\n",
    "        \n",
    "        if not isamirrorimage(lefttree._right, righttree._left):\n",
    "            return False\n",
    "        \n",
    "        return True\n",
    "            \n",
    "    return isamirrorimage(tree._left, tree._right)"
   ]
  },
  {
   "cell_type": "code",
   "execution_count": 9,
   "metadata": {},
   "outputs": [
    {
     "data": {
      "text/plain": [
       "True"
      ]
     },
     "execution_count": 9,
     "metadata": {},
     "output_type": "execute_result"
    }
   ],
   "source": [
    "issymmetric(root)"
   ]
  },
  {
   "cell_type": "code",
   "execution_count": null,
   "metadata": {},
   "outputs": [],
   "source": []
  }
 ],
 "metadata": {
  "kernelspec": {
   "display_name": "Python 2",
   "language": "python",
   "name": "python2"
  },
  "language_info": {
   "codemirror_mode": {
    "name": "ipython",
    "version": 2
   },
   "file_extension": ".py",
   "mimetype": "text/x-python",
   "name": "python",
   "nbconvert_exporter": "python",
   "pygments_lexer": "ipython2",
   "version": "2.7.6"
  }
 },
 "nbformat": 4,
 "nbformat_minor": 0
}
